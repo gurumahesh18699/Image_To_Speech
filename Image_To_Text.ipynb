{
 "cells": [
  {
   "cell_type": "code",
   "execution_count": null,
   "metadata": {},
   "outputs": [],
   "source": [
    "import cv2\n",
    "\n",
    "import pytesseract\n",
    "import  numpy as np\n",
    "import pyttsx3\n",
    "import say\n",
    "import os\n",
    "from pytesseract import image_to_string\n",
    "from gtts import gTTS\n",
    "\n",
    "pytesseract.pytesseract.tesseract_cmd = 'C:\\\\Program Files (x86)\\\\Tesseract-OCR\\\\tesseract.exe'\n",
    "\n",
    "engine = pyttsx3.init()\n",
    "voices = engine.getProperty('voices')\n",
    "engine.setProperty('rate', 130)     \n",
    "engine.setProperty('voice',voices[0].id)\n",
    "\n",
    "#FUNCTION THAT GOING TO RECOGONIZE THE TEXT TO RECOGONIZE I USED PYTESSERACT\n",
    "#INSTEAD OF USING THE VIDEO FILE YOU CAN USE IMAGE TO RECOGNIZE BY PASSING\n",
    "\n",
    "def recogonize(im):\n",
    "    img=cv2.cvtColor(im,cv2.COLOR_BGR2GRAY)\n",
    "    (thresh, im_bw) = cv2.threshold(img, 128, 255, cv2.THRESH_BINARY | cv2.THRESH_OTSU)\n",
    "    im_bw=cv2.cvtColor(im_bw,cv2.COLOR_GRAY2BGR)\n",
    "    mytext=image_to_string(im_bw)\n",
    "# Language in which you want to convert \n",
    "    language = 'en'\n",
    "    \n",
    "    engine.say(mytext)\n",
    "    engine.runAndWait()\n",
    "    return mytext"
   ]
  },
  {
   "cell_type": "code",
   "execution_count": null,
   "metadata": {},
   "outputs": [],
   "source": [
    "image=cv2.imread('dsa.jpg')\n",
    "recogonize(image)"
   ]
  }
 ],
 "metadata": {
  "kernelspec": {
   "display_name": "Python 3",
   "language": "python",
   "name": "python3"
  },
  "language_info": {
   "codemirror_mode": {
    "name": "ipython",
    "version": 3
   },
   "file_extension": ".py",
   "mimetype": "text/x-python",
   "name": "python",
   "nbconvert_exporter": "python",
   "pygments_lexer": "ipython3",
   "version": "3.6.5"
  }
 },
 "nbformat": 4,
 "nbformat_minor": 2
}
